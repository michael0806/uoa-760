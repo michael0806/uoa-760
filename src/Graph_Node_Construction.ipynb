{
 "cells": [
  {
   "cell_type": "code",
   "execution_count": 1,
   "metadata": {
    "collapsed": true,
    "pycharm": {
     "name": "#%%\n"
    }
   },
   "outputs": [],
   "source": [
    "import numpy as np\n",
    "import requests\n",
    "import osmnx as ox\n",
    "import networkx as nx\n",
    "import geopandas as gpd\n",
    "import pandas as pd\n",
    "import numpy as np"
   ]
  },
  {
   "cell_type": "code",
   "execution_count": 6,
   "outputs": [
    {
     "name": "stdout",
     "output_type": "stream",
     "text": [
      "        0       1\n",
      "0  450100  450100\n",
      "1  450100  450300\n",
      "2  450100  451000\n",
      "3  451000  451100\n",
      "4  451000  451000\n"
     ]
    }
   ],
   "source": [
    "# Todo: Construct Nodes based on meshblock from Police CSV and Census\n",
    "# output to cs\n",
    "edge_df = pd.read_csv(\"./output/meshblock_edges.csv\",header=None)\n",
    "print(edge_df.head())"
   ],
   "metadata": {
    "collapsed": false,
    "pycharm": {
     "name": "#%%\n"
    }
   }
  },
  {
   "cell_type": "code",
   "execution_count": 12,
   "outputs": [
    {
     "name": "stdout",
     "output_type": "stream",
     "text": [
      "                 ANZSOC Division  Victimisations  Meshblock  \\\n",
      "0  Acts Intended to Cause Injury               1     432800   \n",
      "1  Acts Intended to Cause Injury               1    1221700   \n",
      "2  Acts Intended to Cause Injury               1    2381600   \n",
      "3  Acts Intended to Cause Injury               1    1081500   \n",
      "4  Acts Intended to Cause Injury               1    1205012   \n",
      "\n",
      "   Number of Records      Weapon  \n",
      "0                  1  Not Stated  \n",
      "1                  1  Not Stated  \n",
      "2                  1  Not Stated  \n",
      "3                  1  Not Stated  \n",
      "4                  1  Not Stated  \n"
     ]
    }
   ],
   "source": [
    "police_df = pd.read_csv(\"./datasets/Police_Table_Full Data_data.csv\")\n",
    "police_df.drop(labels=[\"Year Month (copy 2)\",\"Territorial Authority\",\"Occurrence Hour Of Day\",\"Occurrence Day Of Week\",\"Locn Type Division\",\"Location Type\",\"Area Unit\",\"Year Month\",\"ANZSOC Group\",\"Table 1\",\"ANZSOC Subdivision\",\" Month Year\"],axis=1,inplace=True)\n",
    "print(police_df.head())"
   ],
   "metadata": {
    "collapsed": false,
    "pycharm": {
     "name": "#%%\n"
    }
   }
  },
  {
   "cell_type": "code",
   "execution_count": 26,
   "outputs": [
    {
     "name": "stdout",
     "output_type": "stream",
     "text": [
      "[ 450100  450300  450500  450600  450701  450901  451000  451100  451200\n",
      "  480900  490701 4000137 4000138 4000139 4000140 4001321 4011331 4011333\n",
      " 4011334]\n"
     ]
    }
   ],
   "source": [
    "source_nodes = edge_df[0].tolist()\n",
    "target_nodes = edge_df[1].tolist()\n",
    "unique_meshblock_nodes = np.unique(source_nodes + target_nodes)\n",
    "print(unique_meshblock_nodes)"
   ],
   "metadata": {
    "collapsed": false,
    "pycharm": {
     "name": "#%%\n"
    }
   }
  },
  {
   "cell_type": "code",
   "execution_count": 51,
   "outputs": [],
   "source": [
    "def construct_meshblock_node(unique_node_list,df):\n",
    "    nodes_output_df = pd.DataFrame()\n",
    "    for meshblock_node in unique_node_list:\n",
    "        crimes = df[df[\"Meshblock\"]==meshblock_node]\n",
    "        row = pd.DataFrame([meshblock_node],columns=[\"Meshblock_Id\"])\n",
    "\n",
    "        for crime_row in crimes.iterrows():\n",
    "            crime = crime_row[1]\n",
    "            division,division_victims ,division_records= crime[\"ANZSOC Division\"],crime[\"Victimisations\"], crime[\"Number of Records\"]\n",
    "\n",
    "            division_victims_key ,division_records_key,weapon_key= division+\":\"+\"victims\",division+\":\"+\"records\",\"has_weapon\"\n",
    "\n",
    "            if division_victims_key not in row.columns:\n",
    "                row[division_victims_key] = 0\n",
    "\n",
    "            if division_records_key not in row.columns:\n",
    "                row[division_records_key] = 0\n",
    "\n",
    "            if weapon_key not in row.columns:\n",
    "                row[weapon_key] = False\n",
    "\n",
    "            row[division_victims_key] +=division_victims\n",
    "            row[division_records_key] +=division_records\n",
    "            if crime[\"Weapon\"] is not None or crime[\"Weapon\"] != \"Not Applicable\":\n",
    "                row[weapon_key] = True\n",
    "        nodes_output_df = pd.concat([nodes_output_df,row])\n",
    "    return nodes_output_df"
   ],
   "metadata": {
    "collapsed": false,
    "pycharm": {
     "name": "#%%\n"
    }
   }
  },
  {
   "cell_type": "code",
   "execution_count": 55,
   "outputs": [
    {
     "name": "stdout",
     "output_type": "stream",
     "text": [
      "   Meshblock_Id  Theft and Related Offences:victims  \\\n",
      "0        450100                                78.0   \n",
      "\n",
      "   Theft and Related Offences:records has_weapon  \\\n",
      "0                                75.0       True   \n",
      "\n",
      "   Unlawful Entry With Intent/Burglary, Break and Enter:victims  \\\n",
      "0                                               13.0              \n",
      "\n",
      "   Unlawful Entry With Intent/Burglary, Break and Enter:records  \\\n",
      "0                                               13.0              \n",
      "\n",
      "   Acts Intended to Cause Injury:victims  \\\n",
      "0                                   19.0   \n",
      "\n",
      "   Acts Intended to Cause Injury:records  \\\n",
      "0                                   17.0   \n",
      "\n",
      "   Robbery, Extortion and Related Offences:victims  \\\n",
      "0                                              5.0   \n",
      "\n",
      "   Robbery, Extortion and Related Offences:records  \\\n",
      "0                                              3.0   \n",
      "\n",
      "   Sexual Assault and Related Offences:victims  \\\n",
      "0                                          2.0   \n",
      "\n",
      "   Sexual Assault and Related Offences:records  \n",
      "0                                          2.0  \n"
     ]
    }
   ],
   "source": [
    "meshblock_nodes_df = construct_meshblock_node(unique_meshblock_nodes,police_df)\n",
    "meshblock_nodes_df = meshblock_nodes_df.fillna(0)\n",
    "print(meshblock_nodes_df.head(1))\n",
    "meshblock_nodes_df.to_csv(\"./output/meshblock_nodes.csv\",header=True)"
   ],
   "metadata": {
    "collapsed": false,
    "pycharm": {
     "name": "#%%\n"
    }
   }
  },
  {
   "cell_type": "code",
   "execution_count": null,
   "outputs": [],
   "source": [],
   "metadata": {
    "collapsed": false,
    "pycharm": {
     "name": "#%%\n"
    }
   }
  }
 ],
 "metadata": {
  "kernelspec": {
   "display_name": "Python 3",
   "language": "python",
   "name": "python3"
  },
  "language_info": {
   "codemirror_mode": {
    "name": "ipython",
    "version": 2
   },
   "file_extension": ".py",
   "mimetype": "text/x-python",
   "name": "python",
   "nbconvert_exporter": "python",
   "pygments_lexer": "ipython2",
   "version": "2.7.6"
  }
 },
 "nbformat": 4,
 "nbformat_minor": 0
}