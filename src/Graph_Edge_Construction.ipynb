{
 "cells": [
  {
   "cell_type": "code",
   "execution_count": 1,
   "metadata": {
    "collapsed": true,
    "pycharm": {
     "name": "#%%\n"
    }
   },
   "outputs": [],
   "source": [
    "# 用osmx构建street\n",
    "# 用API 得到street对应的 meshblock\n",
    "# 把street转成meshblock\n",
    "# 根据street的邻居构建 meshblock 的边"
   ]
  },
  {
   "cell_type": "code",
   "execution_count": 2,
   "outputs": [],
   "source": [
    "import time\n",
    "\n",
    "import numpy as np\n",
    "import requests\n",
    "import osmnx as ox\n",
    "import networkx as nx\n",
    "import geopandas as gpd\n",
    "import pandas as pd\n",
    "import numpy as np"
   ],
   "metadata": {
    "collapsed": false,
    "pycharm": {
     "name": "#%%\n"
    }
   }
  },
  {
   "cell_type": "code",
   "execution_count": 3,
   "outputs": [
    {
     "name": "stdout",
     "output_type": "stream",
     "text": [
      "                                            geometry  bbox_north  bbox_south  \\\n",
      "0  POLYGON ((222219.771 -4050395.343, 224043.539 ...  -35.698392  -37.364474   \n",
      "\n",
      "    bbox_east   bbox_west   place_id  osm_type   osm_id        lat        lon  \\\n",
      "0  175.903215  173.896328  298615087  relation  2094141 -36.541281  174.55061   \n",
      "\n",
      "            display_name     class            type  importance  \n",
      "0  Auckland, New Zealand  boundary  administrative        0.66  \n"
     ]
    },
    {
     "data": {
      "text/plain": "<Figure size 432x288 with 1 Axes>",
      "image/png": "[encoded data removed]"
     },
     "metadata": {
      "needs_background": "light"
     },
     "output_type": "display_data"
    }
   ],
   "source": [
    "# Find New Market location from osmx package\n",
    "# city = ox.geocode_to_gdf(\"NewMarket, Auckland, NZ\")\n",
    "# city_proj = ox.project_gdf(city)\n",
    "# ax = city_proj.plot(fc=\"gray\", ec=\"none\")\n",
    "# _ = ax.axis(\"off\")\n",
    "# print(city_proj)\n",
    "\n",
    "# Find Auckland location from osmx package\n",
    "city = ox.geocode_to_gdf(\"Auckland, NZ\")\n",
    "city_proj = ox.project_gdf(city)\n",
    "ax = city_proj.plot(fc=\"gray\", ec=\"none\")\n",
    "_ = ax.axis(\"off\")\n",
    "print(city_proj)"
   ],
   "metadata": {
    "collapsed": false,
    "pycharm": {
     "name": "#%%\n"
    }
   }
  },
  {
   "cell_type": "code",
   "execution_count": 4,
   "outputs": [
    {
     "name": "stdout",
     "output_type": "stream",
     "text": [
      "MultiDiGraph with 625077 nodes and 1280700 edges\n"
     ]
    }
   ],
   "source": [
    "# New Market graph\n",
    "# highway_G = ox.graph_from_point(\n",
    "#     (-36.8679152, 174.7774390),\n",
    "#     dist=500,\n",
    "#     dist_type=\"network\",\n",
    "#     network_type=\"walk\",\n",
    "#     simplify=False,\n",
    "#     retain_all=True,\n",
    "#     custom_filter = '[\"highway\"~\"unclassified|trunk|primary|tertiary|secondary|track|path|residential\"]'\n",
    "# )\n",
    "# print(highway_G)\n",
    "\n",
    "north, south, east, west = city_proj['bbox_north'][0],city_proj['bbox_south'][0],city_proj['bbox_east'][0],city_proj['bbox_west'][0]\n",
    "\n",
    "highway_G = ox.graph_from_bbox(north,south,west,east, network_type='walk',\n",
    "    simplify=False,\n",
    "    retain_all=True,\n",
    "    custom_filter = '[\"highway\"~\"unclassified|trunk|primary|tertiary|secondary|track|path|residential\"]')\n",
    "print(highway_G)"
   ],
   "metadata": {
    "collapsed": false,
    "pycharm": {
     "name": "#%%\n"
    }
   }
  },
  {
   "cell_type": "code",
   "execution_count": 5,
   "outputs": [],
   "source": [
    "# turn off strict mode and see what nodes we'd remove, in yellow\n",
    "#nc = [\"r\" if ox.simplification._is_endpoint(highway_G, node) else \"y\" for node in highway_G.nodes()]\n",
    "#fig, ax = ox.plot_graph(highway_G, node_color=nc)"
   ],
   "metadata": {
    "collapsed": false,
    "pycharm": {
     "name": "#%%\n"
    }
   }
  },
  {
   "cell_type": "code",
   "execution_count": 6,
   "outputs": [],
   "source": [
    "graph_nodes_df = pd.DataFrame.from_dict(dict(highway_G.nodes(data=True)), orient='index')\n",
    "#nodes_df.loc[25771299]"
   ],
   "metadata": {
    "collapsed": false,
    "pycharm": {
     "name": "#%%\n"
    }
   }
  },
  {
   "cell_type": "code",
   "execution_count": 21,
   "outputs": [],
   "source": [
    "def fetch_meshblock_from_api(shared_meshblock_dict, node_list, node_df):\n",
    "    i=0\n",
    "    for s in node_list:\n",
    "        if s in shared_meshblock_dict.keys():\n",
    "            continue\n",
    "        source_node = node_df.loc[s]\n",
    "\n",
    "        # layer seems fixed, may need to change key from STATS NZ every first run\n",
    "        request = requests.get('https://datafinder.stats.govt.nz/services/query/v1/vector.json/?v=1.2&key=18d8d576f4d14b4e8c4ae4317b399a64&layer=105176&x={x}&y={y}&radius=12&max_results=10&geometry=true&with_field_names=true'.format(x=source_node[\"x\"],y=source_node[\"y\"]))\n",
    "        #print(request)\n",
    "        response = request.json()\n",
    "        #print(response)\n",
    "        #break\n",
    "        layers = response['vectorQuery']['layers']\n",
    "        # GET meshblock Id from API\n",
    "        meshblock_id = \"\"\n",
    "        for layer in layers.values():\n",
    "            for feature in layer[\"features\"]:\n",
    "                meshblock_id = feature['properties']['MB2021_V1_00']\n",
    "                break\n",
    "            # found meshblock in first layer, stop\n",
    "            if meshblock_id != \"\":\n",
    "                break\n",
    "        # replace node id to meshblock id\n",
    "        shared_meshblock_dict[s] = meshblock_id\n",
    "        i+=1\n",
    "        if i%1000==0:\n",
    "            print(\"Done: \",i)\n",
    "    return shared_meshblock_dict"
   ],
   "metadata": {
    "collapsed": false,
    "pycharm": {
     "name": "#%%\n"
    }
   }
  },
  {
   "cell_type": "code",
   "execution_count": 8,
   "outputs": [],
   "source": [
    "def construct_source_and_target_nodes_from_graph(graph_G):\n",
    "    source_list = []\n",
    "    target_list = []\n",
    "    for edge in graph_G.edges(data=True):\n",
    "        u,v,data = edge\n",
    "        source_list.append(u)\n",
    "        target_list.append(v)\n",
    "    return source_list,target_list"
   ],
   "metadata": {
    "collapsed": false,
    "pycharm": {
     "name": "#%%\n"
    }
   }
  },
  {
   "cell_type": "code",
   "execution_count": 9,
   "outputs": [
    {
     "name": "stdout",
     "output_type": "stream",
     "text": [
      "Unique source node length:  625074\n"
     ]
    }
   ],
   "source": [
    "source_nodes_list,target_nodes_list = construct_source_and_target_nodes_from_graph(highway_G)\n",
    "\n",
    "unique_nodes_list = np.unique(source_nodes_list + target_nodes_list)\n",
    "unique_nodes_list.sort()\n",
    "print(\"Unique source node length: \",len(unique_nodes_list))"
   ],
   "metadata": {
    "collapsed": false,
    "pycharm": {
     "name": "#%%\n"
    }
   }
  },
  {
   "cell_type": "code",
   "execution_count": 22,
   "outputs": [
    {
     "name": "stdout",
     "output_type": "stream",
     "text": [
      "Done:  1000\n",
      "Done:  2000\n",
      "Done:  3000\n",
      "Done:  1000\n",
      "Done:  2000\n",
      "Done:  3000\n",
      "Done:  1000\n",
      "Done:  2000\n",
      "Done:  3000\n",
      "Done:  1000\n",
      "Done:  2000\n",
      "Done:  3000\n",
      "Done:  1000\n",
      "Done:  2000\n",
      "Done:  3000\n",
      "Done:  1000\n",
      "Done:  2000\n",
      "Done:  3000\n",
      "Done:  1000\n",
      "Done:  2000\n",
      "Done:  3000\n",
      "Done:  1000\n",
      "Done:  2000\n",
      "Done:  3000\n",
      "Done:  1000\n",
      "Done:  2000\n",
      "Done:  3000\n",
      "Done:  1000\n",
      "Done:  2000\n",
      "Done:  3000\n",
      "Done:  1000\n",
      "Done:  2000\n",
      "Done:  3000\n",
      "Done:  1000\n",
      "Done:  2000\n",
      "Done:  3000\n",
      "Done:  1000\n",
      "Done:  2000\n",
      "Done:  3000\n",
      "Done:  1000\n",
      "Done:  2000\n",
      "Done:  3000\n",
      "Done:  1000\n",
      "Done:  2000\n",
      "Done:  3000\n",
      "Done:  1000\n",
      "Done:  2000\n",
      "Done:  3000\n",
      "Done:  1000\n",
      "Done:  2000\n",
      "Done:  3000\n",
      "Done:  1000\n",
      "Done:  2000\n",
      "Done:  3000\n",
      "Done:  1000\n",
      "Done:  2000\n",
      "Done:  3000\n",
      "Done:  1000\n",
      "Done:  2000\n",
      "Done:  3000\n",
      "Done:  1000\n",
      "Done:  2000\n",
      "Done:  3000\n",
      "Done:  1000\n",
      "Done:  2000\n",
      "Done:  3000\n",
      "Done:  1000\n",
      "Done:  2000\n",
      "Done:  3000\n",
      "Done:  1000\n",
      "Done:  2000\n",
      "Done:  3000\n",
      "Done:  1000\n",
      "Done:  2000\n",
      "Done:  3000\n",
      "Done:  1000\n",
      "Done:  2000\n",
      "Done:  3000\n",
      "Done:  1000\n"
     ]
    },
    {
     "ename": "JSONDecodeError",
     "evalue": "Expecting value: line 1 column 1 (char 0)",
     "output_type": "error",
     "traceback": [
      "\u001B[0;31m---------------------------------------------------------------------------\u001B[0m",
      "\u001B[0;31mJSONDecodeError\u001B[0m                           Traceback (most recent call last)",
      "File \u001B[0;32m~/.conda/envs/research789/lib/python3.9/site-packages/requests/models.py:971\u001B[0m, in \u001B[0;36mResponse.json\u001B[0;34m(self, **kwargs)\u001B[0m\n\u001B[1;32m    970\u001B[0m \u001B[38;5;28;01mtry\u001B[39;00m:\n\u001B[0;32m--> 971\u001B[0m     \u001B[38;5;28;01mreturn\u001B[39;00m \u001B[43mcomplexjson\u001B[49m\u001B[38;5;241;43m.\u001B[39;49m\u001B[43mloads\u001B[49m\u001B[43m(\u001B[49m\u001B[38;5;28;43mself\u001B[39;49m\u001B[38;5;241;43m.\u001B[39;49m\u001B[43mtext\u001B[49m\u001B[43m,\u001B[49m\u001B[43m \u001B[49m\u001B[38;5;241;43m*\u001B[39;49m\u001B[38;5;241;43m*\u001B[39;49m\u001B[43mkwargs\u001B[49m\u001B[43m)\u001B[49m\n\u001B[1;32m    972\u001B[0m \u001B[38;5;28;01mexcept\u001B[39;00m JSONDecodeError \u001B[38;5;28;01mas\u001B[39;00m e:\n\u001B[1;32m    973\u001B[0m     \u001B[38;5;66;03m# Catch JSON-related errors and raise as requests.JSONDecodeError\u001B[39;00m\n\u001B[1;32m    974\u001B[0m     \u001B[38;5;66;03m# This aliases json.JSONDecodeError and simplejson.JSONDecodeError\u001B[39;00m\n",
      "File \u001B[0;32m~/.conda/envs/research789/lib/python3.9/json/__init__.py:346\u001B[0m, in \u001B[0;36mloads\u001B[0;34m(s, cls, object_hook, parse_float, parse_int, parse_constant, object_pairs_hook, **kw)\u001B[0m\n\u001B[1;32m    343\u001B[0m \u001B[38;5;28;01mif\u001B[39;00m (\u001B[38;5;28mcls\u001B[39m \u001B[38;5;129;01mis\u001B[39;00m \u001B[38;5;28;01mNone\u001B[39;00m \u001B[38;5;129;01mand\u001B[39;00m object_hook \u001B[38;5;129;01mis\u001B[39;00m \u001B[38;5;28;01mNone\u001B[39;00m \u001B[38;5;129;01mand\u001B[39;00m\n\u001B[1;32m    344\u001B[0m         parse_int \u001B[38;5;129;01mis\u001B[39;00m \u001B[38;5;28;01mNone\u001B[39;00m \u001B[38;5;129;01mand\u001B[39;00m parse_float \u001B[38;5;129;01mis\u001B[39;00m \u001B[38;5;28;01mNone\u001B[39;00m \u001B[38;5;129;01mand\u001B[39;00m\n\u001B[1;32m    345\u001B[0m         parse_constant \u001B[38;5;129;01mis\u001B[39;00m \u001B[38;5;28;01mNone\u001B[39;00m \u001B[38;5;129;01mand\u001B[39;00m object_pairs_hook \u001B[38;5;129;01mis\u001B[39;00m \u001B[38;5;28;01mNone\u001B[39;00m \u001B[38;5;129;01mand\u001B[39;00m \u001B[38;5;129;01mnot\u001B[39;00m kw):\n\u001B[0;32m--> 346\u001B[0m     \u001B[38;5;28;01mreturn\u001B[39;00m \u001B[43m_default_decoder\u001B[49m\u001B[38;5;241;43m.\u001B[39;49m\u001B[43mdecode\u001B[49m\u001B[43m(\u001B[49m\u001B[43ms\u001B[49m\u001B[43m)\u001B[49m\n\u001B[1;32m    347\u001B[0m \u001B[38;5;28;01mif\u001B[39;00m \u001B[38;5;28mcls\u001B[39m \u001B[38;5;129;01mis\u001B[39;00m \u001B[38;5;28;01mNone\u001B[39;00m:\n",
      "File \u001B[0;32m~/.conda/envs/research789/lib/python3.9/json/decoder.py:337\u001B[0m, in \u001B[0;36mJSONDecoder.decode\u001B[0;34m(self, s, _w)\u001B[0m\n\u001B[1;32m    333\u001B[0m \u001B[38;5;124;03m\"\"\"Return the Python representation of ``s`` (a ``str`` instance\u001B[39;00m\n\u001B[1;32m    334\u001B[0m \u001B[38;5;124;03mcontaining a JSON document).\u001B[39;00m\n\u001B[1;32m    335\u001B[0m \n\u001B[1;32m    336\u001B[0m \u001B[38;5;124;03m\"\"\"\u001B[39;00m\n\u001B[0;32m--> 337\u001B[0m obj, end \u001B[38;5;241m=\u001B[39m \u001B[38;5;28;43mself\u001B[39;49m\u001B[38;5;241;43m.\u001B[39;49m\u001B[43mraw_decode\u001B[49m\u001B[43m(\u001B[49m\u001B[43ms\u001B[49m\u001B[43m,\u001B[49m\u001B[43m \u001B[49m\u001B[43midx\u001B[49m\u001B[38;5;241;43m=\u001B[39;49m\u001B[43m_w\u001B[49m\u001B[43m(\u001B[49m\u001B[43ms\u001B[49m\u001B[43m,\u001B[49m\u001B[43m \u001B[49m\u001B[38;5;241;43m0\u001B[39;49m\u001B[43m)\u001B[49m\u001B[38;5;241;43m.\u001B[39;49m\u001B[43mend\u001B[49m\u001B[43m(\u001B[49m\u001B[43m)\u001B[49m\u001B[43m)\u001B[49m\n\u001B[1;32m    338\u001B[0m end \u001B[38;5;241m=\u001B[39m _w(s, end)\u001B[38;5;241m.\u001B[39mend()\n",
      "File \u001B[0;32m~/.conda/envs/research789/lib/python3.9/json/decoder.py:355\u001B[0m, in \u001B[0;36mJSONDecoder.raw_decode\u001B[0;34m(self, s, idx)\u001B[0m\n\u001B[1;32m    354\u001B[0m \u001B[38;5;28;01mexcept\u001B[39;00m \u001B[38;5;167;01mStopIteration\u001B[39;00m \u001B[38;5;28;01mas\u001B[39;00m err:\n\u001B[0;32m--> 355\u001B[0m     \u001B[38;5;28;01mraise\u001B[39;00m JSONDecodeError(\u001B[38;5;124m\"\u001B[39m\u001B[38;5;124mExpecting value\u001B[39m\u001B[38;5;124m\"\u001B[39m, s, err\u001B[38;5;241m.\u001B[39mvalue) \u001B[38;5;28;01mfrom\u001B[39;00m \u001B[38;5;28mNone\u001B[39m\n\u001B[1;32m    356\u001B[0m \u001B[38;5;28;01mreturn\u001B[39;00m obj, end\n",
      "\u001B[0;31mJSONDecodeError\u001B[0m: Expecting value: line 1 column 1 (char 0)",
      "\nDuring handling of the above exception, another exception occurred:\n",
      "\u001B[0;31mJSONDecodeError\u001B[0m                           Traceback (most recent call last)",
      "Input \u001B[0;32mIn [22]\u001B[0m, in \u001B[0;36m<cell line: 1>\u001B[0;34m()\u001B[0m\n\u001B[1;32m      1\u001B[0m \u001B[38;5;28;01mfor\u001B[39;00m i \u001B[38;5;129;01min\u001B[39;00m \u001B[38;5;28mrange\u001B[39m(\u001B[38;5;241m179000\u001B[39m,\u001B[38;5;241m630000\u001B[39m,\u001B[38;5;241m3000\u001B[39m):\n\u001B[1;32m      2\u001B[0m     \u001B[38;5;66;03m#print(len(unique_nodes_list[620000:630000]))\u001B[39;00m\n\u001B[1;32m      3\u001B[0m     meshblock_mapping_dict\u001B[38;5;241m=\u001B[39m {}\n\u001B[0;32m----> 4\u001B[0m     meshblock_mapping_dict \u001B[38;5;241m=\u001B[39m \u001B[43mfetch_meshblock_from_api\u001B[49m\u001B[43m(\u001B[49m\u001B[43mmeshblock_mapping_dict\u001B[49m\u001B[43m,\u001B[49m\u001B[43munique_nodes_list\u001B[49m\u001B[43m[\u001B[49m\u001B[43mi\u001B[49m\u001B[43m:\u001B[49m\u001B[43mi\u001B[49m\u001B[38;5;241;43m+\u001B[39;49m\u001B[38;5;241;43m3000\u001B[39;49m\u001B[43m]\u001B[49m\u001B[43m,\u001B[49m\u001B[43mgraph_nodes_df\u001B[49m\u001B[43m)\u001B[49m\n\u001B[1;32m      6\u001B[0m     \u001B[38;5;28;01mwith\u001B[39;00m \u001B[38;5;28mopen\u001B[39m(\u001B[38;5;124m\"\u001B[39m\u001B[38;5;124m./output/meshblock_mapping\u001B[39m\u001B[38;5;132;01m{i}\u001B[39;00m\u001B[38;5;124m.csv\u001B[39m\u001B[38;5;124m\"\u001B[39m\u001B[38;5;241m.\u001B[39mformat(i\u001B[38;5;241m=\u001B[39mi), \u001B[38;5;124m'\u001B[39m\u001B[38;5;124mw\u001B[39m\u001B[38;5;124m'\u001B[39m) \u001B[38;5;28;01mas\u001B[39;00m f:\n\u001B[1;32m      7\u001B[0m         \u001B[38;5;28;01mfor\u001B[39;00m key, value \u001B[38;5;129;01min\u001B[39;00m meshblock_mapping_dict\u001B[38;5;241m.\u001B[39mitems():\n",
      "Input \u001B[0;32mIn [21]\u001B[0m, in \u001B[0;36mfetch_meshblock_from_api\u001B[0;34m(shared_meshblock_dict, node_list, node_df)\u001B[0m\n\u001B[1;32m      9\u001B[0m request \u001B[38;5;241m=\u001B[39m requests\u001B[38;5;241m.\u001B[39mget(\u001B[38;5;124m'\u001B[39m\u001B[38;5;124mhttps://datafinder.stats.govt.nz/services/query/v1/vector.json/?v=1.2&key=18d8d576f4d14b4e8c4ae4317b399a64&layer=105176&x=\u001B[39m\u001B[38;5;132;01m{x}\u001B[39;00m\u001B[38;5;124m&y=\u001B[39m\u001B[38;5;132;01m{y}\u001B[39;00m\u001B[38;5;124m&radius=12&max_results=10&geometry=true&with_field_names=true\u001B[39m\u001B[38;5;124m'\u001B[39m\u001B[38;5;241m.\u001B[39mformat(x\u001B[38;5;241m=\u001B[39msource_node[\u001B[38;5;124m\"\u001B[39m\u001B[38;5;124mx\u001B[39m\u001B[38;5;124m\"\u001B[39m],y\u001B[38;5;241m=\u001B[39msource_node[\u001B[38;5;124m\"\u001B[39m\u001B[38;5;124my\u001B[39m\u001B[38;5;124m\"\u001B[39m]))\n\u001B[1;32m     10\u001B[0m \u001B[38;5;66;03m#print(request)\u001B[39;00m\n\u001B[0;32m---> 11\u001B[0m response \u001B[38;5;241m=\u001B[39m \u001B[43mrequest\u001B[49m\u001B[38;5;241;43m.\u001B[39;49m\u001B[43mjson\u001B[49m\u001B[43m(\u001B[49m\u001B[43m)\u001B[49m\n\u001B[1;32m     12\u001B[0m \u001B[38;5;66;03m#print(response)\u001B[39;00m\n\u001B[1;32m     13\u001B[0m \u001B[38;5;66;03m#break\u001B[39;00m\n\u001B[1;32m     14\u001B[0m layers \u001B[38;5;241m=\u001B[39m response[\u001B[38;5;124m'\u001B[39m\u001B[38;5;124mvectorQuery\u001B[39m\u001B[38;5;124m'\u001B[39m][\u001B[38;5;124m'\u001B[39m\u001B[38;5;124mlayers\u001B[39m\u001B[38;5;124m'\u001B[39m]\n",
      "File \u001B[0;32m~/.conda/envs/research789/lib/python3.9/site-packages/requests/models.py:975\u001B[0m, in \u001B[0;36mResponse.json\u001B[0;34m(self, **kwargs)\u001B[0m\n\u001B[1;32m    971\u001B[0m     \u001B[38;5;28;01mreturn\u001B[39;00m complexjson\u001B[38;5;241m.\u001B[39mloads(\u001B[38;5;28mself\u001B[39m\u001B[38;5;241m.\u001B[39mtext, \u001B[38;5;241m*\u001B[39m\u001B[38;5;241m*\u001B[39mkwargs)\n\u001B[1;32m    972\u001B[0m \u001B[38;5;28;01mexcept\u001B[39;00m JSONDecodeError \u001B[38;5;28;01mas\u001B[39;00m e:\n\u001B[1;32m    973\u001B[0m     \u001B[38;5;66;03m# Catch JSON-related errors and raise as requests.JSONDecodeError\u001B[39;00m\n\u001B[1;32m    974\u001B[0m     \u001B[38;5;66;03m# This aliases json.JSONDecodeError and simplejson.JSONDecodeError\u001B[39;00m\n\u001B[0;32m--> 975\u001B[0m     \u001B[38;5;28;01mraise\u001B[39;00m RequestsJSONDecodeError(e\u001B[38;5;241m.\u001B[39mmsg, e\u001B[38;5;241m.\u001B[39mdoc, e\u001B[38;5;241m.\u001B[39mpos)\n",
      "\u001B[0;31mJSONDecodeError\u001B[0m: Expecting value: line 1 column 1 (char 0)"
     ]
    }
   ],
   "source": [
    "for i in range(257000,630000,3000):\n",
    "    #print(len(unique_nodes_list[620000:630000]))\n",
    "    meshblock_mapping_dict= {}\n",
    "    meshblock_mapping_dict = fetch_meshblock_from_api(meshblock_mapping_dict,unique_nodes_list[i:i+3000],graph_nodes_df)\n",
    "\n",
    "    with open(\"./output/meshblock_mapping{i}.csv\".format(i=i), 'w') as f:\n",
    "        for key, value in meshblock_mapping_dict.items():\n",
    "            f.write('%s,%s\\n' % (key, value))\n",
    "    time.sleep(20)"
   ],
   "metadata": {
    "collapsed": false,
    "pycharm": {
     "name": "#%%\n"
    }
   }
  },
  {
   "cell_type": "code",
   "execution_count": null,
   "outputs": [],
   "source": [
    "def replace_node_id_with_meshblock_id(node_list,mapping_dict):\n",
    "    # using global dict to check\n",
    "    mapping_keys = mapping_dict.keys()\n",
    "    output_list = []\n",
    "    for node in node_list:\n",
    "        if node not in mapping_keys:\n",
    "            output_list.append(\"-1\")\n",
    "        output_list.append(str(mapping_dict[node]))\n",
    "    return output_list"
   ],
   "metadata": {
    "collapsed": false,
    "pycharm": {
     "name": "#%%\n"
    }
   }
  },
  {
   "cell_type": "code",
   "execution_count": null,
   "outputs": [],
   "source": [
    "# replace node with meshblock\n",
    "source_meshblock_list = replace_node_id_with_meshblock_id(source_nodes_list,meshblock_mapping_dict)\n",
    "target_meshblock_list = replace_node_id_with_meshblock_id(target_nodes_list,meshblock_mapping_dict)"
   ],
   "metadata": {
    "collapsed": false,
    "pycharm": {
     "name": "#%%\n"
    }
   }
  },
  {
   "cell_type": "code",
   "execution_count": null,
   "outputs": [],
   "source": [
    "zipped_meshblock_list = list(zip(source_meshblock_list, target_meshblock_list))\n",
    "meshblock_edge_df = pd.DataFrame(zipped_meshblock_list,columns=[\"source\",\"target\"])\n",
    "print(meshblock_edge_df.head(5))"
   ],
   "metadata": {
    "collapsed": false,
    "pycharm": {
     "name": "#%%\n"
    }
   }
  },
  {
   "cell_type": "code",
   "execution_count": null,
   "outputs": [],
   "source": [
    "meshblock_edge_df = meshblock_edge_df.drop_duplicates(subset=None, keep='first', inplace=False, ignore_index=False)\n",
    "print(meshblock_edge_df.describe())\n",
    "meshblock_edge_df.to_csv(\"./output/meshblock_edges.csv\",header=False,index=False)"
   ],
   "metadata": {
    "collapsed": false,
    "pycharm": {
     "name": "#%%\n"
    }
   }
  },
  {
   "cell_type": "code",
   "execution_count": null,
   "outputs": [],
   "source": [],
   "metadata": {
    "collapsed": false,
    "pycharm": {
     "name": "#%%\n"
    }
   }
  }
 ],
 "metadata": {
  "kernelspec": {
   "display_name": "Python 3",
   "language": "python",
   "name": "python3"
  },
  "language_info": {
   "codemirror_mode": {
    "name": "ipython",
    "version": 2
   },
   "file_extension": ".py",
   "mimetype": "text/x-python",
   "name": "python",
   "nbconvert_exporter": "python",
   "pygments_lexer": "ipython2",
   "version": "2.7.6"
  }
 },
 "nbformat": 4,
 "nbformat_minor": 0
}