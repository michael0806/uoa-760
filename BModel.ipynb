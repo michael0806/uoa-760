{
  "cells": [
    {
      "cell_type": "markdown",
      "metadata": {
        "id": "IPpcj2B9ergT"
      },
      "source": [
        "# Baseline Model- without crime data"
      ]
    },
    {
      "cell_type": "code",
      "execution_count": null,
      "metadata": {
        "id": "jQOeVbrIXf99"
      },
      "outputs": [],
      "source": [
        "import os\n",
        "path = \"/content/drive/MyDrive/COMPSCI760\"\n",
        "os.chdir(path)"
      ]
    },
    {
      "cell_type": "code",
      "execution_count": null,
      "metadata": {
        "id": "LVHEEdy3Yi5j"
      },
      "outputs": [],
      "source": [
        "import numpy as np\n",
        "import pandas as pd\n",
        "import matplotlib.pyplot as plt\n",
        "import seaborn as sns\n",
        "from sklearn import preprocessing\n",
        "\n",
        "from sklearn.linear_model import LinearRegression\n",
        "from sklearn.tree import DecisionTreeRegressor\n",
        "from sklearn.ensemble import RandomForestRegressor\n",
        "from sklearn.neural_network import MLPRegressor\n",
        "\n",
        "from sklearn.model_selection import cross_val_score\n",
        "from sklearn.metrics import mean_squared_error\n",
        "from sklearn.model_selection import GridSearchCV"
      ]
    },
    {
      "cell_type": "code",
      "execution_count": null,
      "metadata": {
        "colab": {
          "base_uri": "https://localhost:8080/"
        },
        "id": "hK6q20aVezRW",
        "outputId": "21493d1c-ab4a-48b8-d349-e5185627a385"
      },
      "outputs": [
        {
          "data": {
            "text/plain": [
              "Index(['averge_room', 'Male', 'Female', 'Average Age', 'European', 'Māori',\n",
              "       'Pacific Peoples', 'Asian', 'Middle Eastern / Latin American / African',\n",
              "       'Other Ethnicity', 'New Zealander(19)', 'Other Ethnicity nec(19)',\n",
              "       'Median personal income($)', 'Employed Full time', 'Employed Part time',\n",
              "       'Unemployed', 'Paid employee', 'Employer',\n",
              "       'Self employed and without employees', 'Unpaid family worker',\n",
              "       'mean_CV', 'mean_FA', 'mean_AR', 'mean_bed', 'mean_Bath', 'mean_Price',\n",
              "       'mean_school'],\n",
              "      dtype='object')"
            ]
          },
          "execution_count": 4,
          "metadata": {},
          "output_type": "execute_result"
        }
      ],
      "source": [
        "f = pd.read_csv('/content/drive/MyDrive/COMPSCI760/data_withoutcrime_27.csv')\n",
        "f.columns"
      ]
    },
    {
      "cell_type": "code",
      "execution_count": null,
      "metadata": {
        "colab": {
          "base_uri": "https://localhost:8080/"
        },
        "id": "kgbYhYGjASXC",
        "outputId": "945ea12e-6f2e-486e-8800-026ca6b889b8"
      },
      "outputs": [
        {
          "data": {
            "text/plain": [
              "Index(['averge_room', 'Male', 'Female', 'Average Age', 'European', 'Māori',\n",
              "       'Pacific Peoples', 'Asian', 'Middle Eastern / Latin American / African',\n",
              "       'Other Ethnicity', 'New Zealander(19)', 'Other Ethnicity nec(19)',\n",
              "       'Median personal income($)', 'Employed Full time', 'Employed Part time',\n",
              "       'Unemployed', 'Paid employee', 'Employer',\n",
              "       'Self employed and without employees', 'Unpaid family worker',\n",
              "       'median_CV', 'median_FA', 'median_AR', 'median_Bed', 'median_Bath',\n",
              "       'median_Price', 'median_School'],\n",
              "      dtype='object')"
            ]
          },
          "execution_count": 5,
          "metadata": {},
          "output_type": "execute_result"
        }
      ],
      "source": [
        "f = f.rename(columns={'mean_CV':'median_CV', 'mean_FA':'median_FA','mean_AR':'median_AR','mean_bed':'median_Bed','mean_Bath':'median_Bath','mean_Price':'median_Price','mean_school':'median_School'})\n",
        "f.columns"
      ]
    },
    {
      "cell_type": "code",
      "execution_count": null,
      "metadata": {
        "colab": {
          "base_uri": "https://localhost:8080/"
        },
        "id": "24cQ1G6fEWFH",
        "outputId": "bdd0fd03-8dad-48d7-a8a2-8da1a7d22a38"
      },
      "outputs": [
        {
          "name": "stdout",
          "output_type": "stream",
          "text": [
            "(7938, 26) (7938, 25) (7938,)\n"
          ]
        }
      ],
      "source": [
        "xf = f.drop(['median_Price'], axis=1)\n",
        "xf_nocv = f.drop(['median_CV', 'median_Price'], axis = 1)\n",
        "yf = f['median_Price']\n",
        "print(xf.shape, xf_nocv.shape, yf.shape)"
      ]
    },
    {
      "cell_type": "markdown",
      "metadata": {
        "id": "c05DNRkJNOcX"
      },
      "source": [
        "## f_Drop median_cv"
      ]
    },
    {
      "cell_type": "markdown",
      "metadata": {
        "id": "xYNHsbst4yib"
      },
      "source": [
        "### 5-fold cross validation in three regression models"
      ]
    },
    {
      "cell_type": "code",
      "execution_count": null,
      "metadata": {
        "colab": {
          "base_uri": "https://localhost:8080/"
        },
        "id": "egwS2hzCAj_W",
        "outputId": "2bed33c9-5413-44a8-8fcc-2b8b64dcaa73"
      },
      "outputs": [
        {
          "name": "stdout",
          "output_type": "stream",
          "text": [
            "LinearRegression is finished\n",
            "DecisionTreeRegressor is finished\n",
            "RandomForestRegressor is finished\n",
            "      LinearRegression  DecisionTreeRegressor  RandomForestRegressor\n",
            "cv1           0.303679               0.395883               0.273104\n",
            "cv2           0.253434               0.358464               0.254088\n",
            "cv3           0.327144               0.441553               0.337490\n",
            "cv4           0.253893               0.355217               0.252093\n",
            "cv5           0.266035               0.385243               0.253397\n",
            "RMSE          0.280837               0.387272               0.274035\n"
          ]
        }
      ],
      "source": [
        "## Decide modelling methods\n",
        "models = [LinearRegression(),\n",
        "      DecisionTreeRegressor(),\n",
        "      RandomForestRegressor(),\n",
        "      ]\n",
        "\n",
        "## Use 5-Fold cross validatin which wraped in the 'cross_val_score' function\n",
        "rmse_f = dict()\n",
        "for m in models:\n",
        "    m_name = str(m).split('(')[0]\n",
        "    scores = cross_val_score(m, X=xf_nocv, y=yf, cv = 5, scoring=\"neg_mean_squared_error\")\n",
        "    rmse_f[m_name] = np.sqrt(-scores)    ## Convert from MSE to RMSE\n",
        "    print(m_name + ' is finished')\n",
        "\n",
        "## Dispaly the model results in type of DataFrame\n",
        "rmse_f = pd.DataFrame(rmse_f)   \n",
        "rmse_f.index = ['cv' + str(x) for x in range(1, 6)]\n",
        "rmse_f.loc['RMSE'] = rmse_f.apply(lambda x: x.mean())\n",
        "print(rmse_f)"
      ]
    },
    {
      "cell_type": "markdown",
      "metadata": {
        "id": "4TvrYZbq5HhW"
      },
      "source": [
        "### Tuning hyperparameters in DTR model and RFR model"
      ]
    },
    {
      "cell_type": "code",
      "execution_count": null,
      "metadata": {
        "colab": {
          "base_uri": "https://localhost:8080/"
        },
        "id": "01p0Gzzc3-E_",
        "outputId": "2ba81baa-1958-4081-f2a7-a75f3055cdbe"
      },
      "outputs": [
        {
          "name": "stdout",
          "output_type": "stream",
          "text": [
            "Best_params for DTR model:{'max_depth': 6, 'min_samples_split': 80}\n",
            "Best_RMSE for DTR model:0.3049867604004201\n"
          ]
        }
      ],
      "source": [
        "## Tuning the Hyperparameters for Decision Tree Regressor\n",
        "## Grid Search Method\n",
        "\n",
        "from sklearn.model_selection import GridSearchCV\n",
        "parameters_dt = {'max_depth': range(1,24), 'min_samples_split': range(10, 100, 10)}\n",
        "model_dt = DecisionTreeRegressor()\n",
        "gs_dt = GridSearchCV(model_dt, parameters_dt, cv=5, scoring='neg_mean_squared_error')\n",
        "gs_dt.fit(xf_nocv, yf)\n",
        "\n",
        "print(\"Best_params for DTR model:{0}\\nBest_RMSE for DTR model:{1}\".format(gs_dt.best_params_, np.sqrt(-gs_dt.best_score_)))"
      ]
    },
    {
      "cell_type": "code",
      "execution_count": null,
      "metadata": {
        "colab": {
          "base_uri": "https://localhost:8080/"
        },
        "id": "Shlyutw4BR85",
        "outputId": "5ee762d9-7270-4f23-f00d-2d6a5e3124e9"
      },
      "outputs": [
        {
          "name": "stdout",
          "output_type": "stream",
          "text": [
            "Best_params for RFR model:{'n_estimators': 70}\n",
            "Best_RMSE for RFR model:0.2758608982531706\n"
          ]
        }
      ],
      "source": [
        "## Tuning the Hyperparameters for Random Forest Regressor\n",
        "## Grid Search Method\n",
        "\n",
        "## First step, find the best number of n_estimators in RFR model\n",
        "\n",
        "from sklearn.model_selection import GridSearchCV\n",
        "parameters_rf_test1 = {'n_estimators': range(10, 100, 10)}\n",
        "model_rf = RandomForestRegressor()\n",
        "gs_rf = GridSearchCV(model_rf, parameters_rf_test1, cv=5, scoring='neg_mean_squared_error', n_jobs=-1)\n",
        "gs_rf.fit(xf_nocv, yf)\n",
        "\n",
        "print(\"Best_params for RFR model:{0}\\nBest_RMSE for RFR model:{1}\".format(gs_rf.best_params_, np.sqrt(-gs_rf.best_score_)))"
      ]
    },
    {
      "cell_type": "code",
      "execution_count": null,
      "metadata": {
        "colab": {
          "base_uri": "https://localhost:8080/"
        },
        "id": "vOG-_fwJP2T8",
        "outputId": "bb10dc0f-02bf-4f3c-d896-56d5c38a1cac"
      },
      "outputs": [
        {
          "name": "stdout",
          "output_type": "stream",
          "text": [
            "Best_params for RFR model(n_estimators=70):{'max_depth': 19, 'min_samples_split': 10}\n",
            "Best_RMSE for RFR model(n_estimators=70):0.27500179820432485\n"
          ]
        }
      ],
      "source": [
        "## Set the parameter for n_estimators as we searching before, 70\n",
        "## Then search for the other two parameters\n",
        "\n",
        "parameters_rf_test2 = {'max_depth': range(2,20), 'min_samples_split': range(10, 100, 10)}\n",
        "model_rf2 = RandomForestRegressor(n_estimators = 70)\n",
        "gs_rf2 = GridSearchCV(model_rf, parameters_rf_test2, cv=5, scoring='neg_mean_squared_error', n_jobs=-1)\n",
        "gs_rf2.fit(xf_nocv, yf)\n",
        "\n",
        "print(\"Best_params for RFR model(n_estimators=70):{0}\\nBest_RMSE for RFR model(n_estimators=70):{1}\".format(gs_rf2.best_params_, np.sqrt(-gs_rf2.best_score_)))"
      ]
    },
    {
      "cell_type": "markdown",
      "metadata": {
        "id": "v91KqQm_R5GV"
      },
      "source": [
        "### 5-fold cross validation in three regression models (with tuning parameters)"
      ]
    },
    {
      "cell_type": "code",
      "execution_count": null,
      "metadata": {
        "colab": {
          "base_uri": "https://localhost:8080/"
        },
        "id": "F5IgGRCGR5Yw",
        "outputId": "cdf3b6aa-d1df-4fb6-aaf7-1f6989f82bf7"
      },
      "outputs": [
        {
          "name": "stdout",
          "output_type": "stream",
          "text": [
            "LinearRegression is finished\n",
            "DecisionTreeRegressor is finished\n",
            "RandomForestRegressor is finished\n",
            "The cross validation results in three models are as follows:\n",
            "      LinearRegression  DecisionTreeRegressor  RandomForestRegressor\n",
            "cv1           0.303679               0.303937               0.274240\n",
            "cv2           0.253434               0.294738               0.255992\n",
            "cv3           0.327144               0.363934               0.335738\n",
            "cv4           0.253893               0.273264               0.251815\n",
            "cv5           0.266035               0.280562               0.250807\n",
            "RMSE          0.280837               0.303287               0.273718\n"
          ]
        }
      ],
      "source": [
        "## Decide modelling methods\n",
        "models2 = [LinearRegression(),\n",
        "      DecisionTreeRegressor(max_depth = 6, min_samples_split = 80),\n",
        "      RandomForestRegressor(n_estimators = 70, max_depth = 19, min_samples_split =10),\n",
        "      ]\n",
        "\n",
        "## Use 5-Fold cross validatin which wraped in the 'cross_val_score' function\n",
        "rmse_f2 = dict()\n",
        "for m in models2:\n",
        "    m_name = str(m).split('(')[0]\n",
        "    scores = cross_val_score(m, X=xf_nocv, y=yf, cv = 5, scoring=\"neg_mean_squared_error\")\n",
        "    rmse_f2[m_name] = np.sqrt(-scores)    ## Convert from MSE to RMSE\n",
        "    print(m_name + ' is finished')\n",
        "\n",
        "## Dispaly the model results in type of DataFrame\n",
        "rmse_f2 = pd.DataFrame(rmse_f2)   \n",
        "rmse_f2.index = ['cv' + str(x) for x in range(1, 6)]\n",
        "rmse_f2.loc['RMSE'] = rmse_f2.apply(lambda x: x.mean())\n",
        "print(\"The cross validation results in three models are as follows:\\n{}\".format(rmse_f2))"
      ]
    },
    {
      "cell_type": "markdown",
      "metadata": {
        "id": "y5ewgWdPN6JB"
      },
      "source": [
        "# Baseline Model- with crime data"
      ]
    },
    {
      "cell_type": "code",
      "execution_count": null,
      "metadata": {
        "colab": {
          "base_uri": "https://localhost:8080/"
        },
        "id": "aJ5F0h68N_E3",
        "outputId": "2d69e359-20da-45e1-8587-303cfc83dfd9"
      },
      "outputs": [
        {
          "output_type": "execute_result",
          "data": {
            "text/plain": [
              "Index(['averge_room', 'Male', 'Female', 'Average Age', 'European', 'Māori',\n",
              "       'Pacific Peoples', 'Asian', 'Middle Eastern / Latin American / African',\n",
              "       'Other Ethnicity', 'New Zealander(19)', 'Other Ethnicity nec(19)',\n",
              "       'Median personal income($)', 'Employed Full time', 'Employed Part time',\n",
              "       'Unemployed', 'Paid employee', 'Employer',\n",
              "       'Self employed and without employees', 'Unpaid family worker',\n",
              "       'median_CV', 'median_FA', 'median_AR', 'median_bed', 'median_Bath',\n",
              "       'median_Price', 'median_school', 'weighted_weapon', 'weighted_crime',\n",
              "       'Number_of_happens', 'Number of Victimisations'],\n",
              "      dtype='object')"
            ]
          },
          "metadata": {},
          "execution_count": 3
        }
      ],
      "source": [
        "fc = pd.read_csv('/content/drive/MyDrive/COMPSCI760/data_withcrime_31.csv')\n",
        "fc.columns"
      ]
    },
    {
      "cell_type": "code",
      "execution_count": null,
      "metadata": {
        "colab": {
          "base_uri": "https://localhost:8080/"
        },
        "id": "kRK3YHMWOG_C",
        "outputId": "15ee8397-f4e0-4759-f80b-cbc7e7cdd3a0"
      },
      "outputs": [
        {
          "output_type": "execute_result",
          "data": {
            "text/plain": [
              "Index(['averge_room', 'Male', 'Female', 'Average Age', 'European', 'Māori',\n",
              "       'Pacific Peoples', 'Asian', 'Middle Eastern / Latin American / African',\n",
              "       'Other Ethnicity', 'New Zealander(19)', 'Other Ethnicity nec(19)',\n",
              "       'Median personal income($)', 'Employed Full time', 'Employed Part time',\n",
              "       'Unemployed', 'Paid employee', 'Employer',\n",
              "       'Self employed and without employees', 'Unpaid family worker',\n",
              "       'median_CV', 'median_FA', 'median_AR', 'median_bed', 'median_Bath',\n",
              "       'median_Price', 'median_school', 'weighted_weapon', 'weighted_crime',\n",
              "       'Number_of_happens', 'Number of Victimisations'],\n",
              "      dtype='object')"
            ]
          },
          "metadata": {},
          "execution_count": 4
        }
      ],
      "source": [
        "fc = fc.rename(columns={'mean_CV':'median_CV', 'mean_FA':'median_FA','mean_AR':'median_AR','mean_bed':'median_Bed','mean_Bath':'median_Bath','mean_Price':'median_Price','mean_school':'median_School'})\n",
        "fc.columns"
      ]
    },
    {
      "cell_type": "code",
      "execution_count": null,
      "metadata": {
        "colab": {
          "base_uri": "https://localhost:8080/"
        },
        "id": "07VPy08BOcBg",
        "outputId": "67ace37f-8694-4e08-b9f3-42007a141d87"
      },
      "outputs": [
        {
          "output_type": "stream",
          "name": "stdout",
          "text": [
            "(7417, 30) (7417, 29) (7417,)\n"
          ]
        }
      ],
      "source": [
        "xfc = fc.drop(['median_Price'], axis=1)\n",
        "xfc_nocv = fc.drop(['median_CV', 'median_Price'], axis = 1)\n",
        "yfc = fc['median_Price']\n",
        "print(xfc.shape, xfc_nocv.shape, yfc.shape)"
      ]
    },
    {
      "cell_type": "markdown",
      "metadata": {
        "id": "3ZpBbs9tPkfp"
      },
      "source": [
        "## fc_Drop median_cv"
      ]
    },
    {
      "cell_type": "markdown",
      "metadata": {
        "id": "SeTAfIFJm4yA"
      },
      "source": [
        "### 5-fold cross validation in three regression models with crime data"
      ]
    },
    {
      "cell_type": "code",
      "execution_count": null,
      "metadata": {
        "colab": {
          "base_uri": "https://localhost:8080/"
        },
        "id": "8ZLxsVYeOnST",
        "outputId": "45c7a1a1-9547-4227-829d-aa8a9c7c5528"
      },
      "outputs": [
        {
          "name": "stdout",
          "output_type": "stream",
          "text": [
            "LinearRegression is finished\n",
            "DecisionTreeRegressor is finished\n",
            "RandomForestRegressor is finished\n",
            "      LinearRegression  DecisionTreeRegressor  RandomForestRegressor\n",
            "cv1           0.305318               0.411453               0.271443\n",
            "cv2           0.246244               0.348718               0.249756\n",
            "cv3           0.326694               0.425611               0.340553\n",
            "cv4           0.253919               0.347882               0.252549\n",
            "cv5           0.264898               0.368605               0.250137\n",
            "RMSE          0.280837               0.387272               0.274035\n"
          ]
        }
      ],
      "source": [
        "## Decide modelling methods\n",
        "models_fc = [LinearRegression(),\n",
        "      DecisionTreeRegressor(),\n",
        "      RandomForestRegressor(),\n",
        "      ]\n",
        "\n",
        "## Use 5-Fold cross validatin which wraped in the 'cross_val_score' function\n",
        "rmse_fc = dict()\n",
        "for m in models_fc:\n",
        "    m_name = str(m).split('(')[0]\n",
        "    scores = cross_val_score(m, X=xfc_nocv, y=yfc, cv = 5, scoring=\"neg_mean_squared_error\")\n",
        "    rmse_fc[m_name] = np.sqrt(-scores)    ## Convert from MSE to RMSE\n",
        "    print(m_name + ' is finished')\n",
        "\n",
        "## Dispaly the model results in type of DataFrame\n",
        "rmse_fc = pd.DataFrame(rmse_fc)   \n",
        "rmse_fc.index = ['cv' + str(x) for x in range(1, 6)]\n",
        "rmse_fc.loc['RMSE'] = rmse_f.apply(lambda x: x.mean())\n",
        "print(rmse_fc)"
      ]
    },
    {
      "cell_type": "markdown",
      "metadata": {
        "id": "HfkXqFHenCBD"
      },
      "source": [
        "### Tuning hyperparameters in DTR model and RFR model with crime data"
      ]
    },
    {
      "cell_type": "code",
      "execution_count": null,
      "metadata": {
        "colab": {
          "base_uri": "https://localhost:8080/"
        },
        "id": "LyjIV2XsjXd9",
        "outputId": "325716e4-baff-461e-8b49-2b88bda19b43"
      },
      "outputs": [
        {
          "name": "stdout",
          "output_type": "stream",
          "text": [
            "Best_params for DTR model:{'max_depth': 5, 'min_samples_split': 30}\n",
            "Best_RMSE for DTR model:0.3105236020330802\n"
          ]
        }
      ],
      "source": [
        "## Tuning the Hyperparameters for Decision Tree Regressor\n",
        "## Grid Search Method\n",
        "\n",
        "from sklearn.model_selection import GridSearchCV\n",
        "parameters_dt_c = {'max_depth': range(5,10), 'min_samples_split': range(10, 100, 10)}\n",
        "model_dt_c = DecisionTreeRegressor()\n",
        "gs_dt_c = GridSearchCV(model_dt_c, parameters_dt_c, cv=5, scoring='neg_mean_squared_error')\n",
        "gs_dt_c.fit(xfc_nocv, yfc)\n",
        "\n",
        "print(\"Best_params for DTR model:{0}\\nBest_RMSE for DTR model:{1}\".format(gs_dt_c.best_params_, np.sqrt(-gs_dt_c.best_score_)))"
      ]
    },
    {
      "cell_type": "code",
      "execution_count": null,
      "metadata": {
        "colab": {
          "base_uri": "https://localhost:8080/"
        },
        "id": "CLvXuzy5kSxj",
        "outputId": "9e87b3c3-317a-4387-e1bf-64841ed29317"
      },
      "outputs": [
        {
          "name": "stdout",
          "output_type": "stream",
          "text": [
            "Best_params for RFR model:{'n_estimators': 70}\n",
            "Best_RMSE for RFR model:0.2751467492819437\n"
          ]
        }
      ],
      "source": [
        "## Tuning the Hyperparameters for Random Forest Regressor\n",
        "## Grid Search Method\n",
        "\n",
        "## First step, find the best number of n_estimators in RFR model\n",
        "\n",
        "from sklearn.model_selection import GridSearchCV\n",
        "parameters_rf_test1_c = {'n_estimators': range(10, 100, 10)}\n",
        "model_rf = RandomForestRegressor()\n",
        "gs_rf_c = GridSearchCV(model_rf, parameters_rf_test1_c, cv=5, scoring='neg_mean_squared_error', n_jobs=-1)\n",
        "gs_rf_c.fit(xfc_nocv, yfc)\n",
        "\n",
        "print(\"Best_params for RFR model:{0}\\nBest_RMSE for RFR model:{1}\".format(gs_rf_c.best_params_, np.sqrt(-gs_rf_c.best_score_)))"
      ]
    },
    {
      "cell_type": "code",
      "execution_count": null,
      "metadata": {
        "colab": {
          "background_save": true
        },
        "id": "XuyRoE9ilBGF",
        "outputId": "18f21772-2a4b-4df4-9149-801417e7de49"
      },
      "outputs": [
        {
          "name": "stdout",
          "output_type": "stream",
          "text": [
            "Best_params for RFR model(n_estimators=70):{'max_depth': 15, 'min_samples_split': 10}\n",
            "Best_RMSE for RFR model(n_estimators=70):0.2739484817633714\n"
          ]
        }
      ],
      "source": [
        "## Set the parameter for n_estimators as we searching before, 70\n",
        "## Then search for the other two parameters\n",
        "\n",
        "parameters_rf_test2_c = {'max_depth': range(2,20), 'min_samples_split': range(10, 100, 10)}\n",
        "model_rf2 = RandomForestRegressor(n_estimators = 70)\n",
        "gs_rf2_c = GridSearchCV(model_rf, parameters_rf_test2, cv=5, scoring='neg_mean_squared_error', n_jobs=-1)\n",
        "gs_rf2_c.fit(xfc_nocv, yfc)\n",
        "\n",
        "print(\"Best_params for RFR model(n_estimators=70):{0}\\nBest_RMSE for RFR model(n_estimators=70):{1}\".format(gs_rf2_c.best_params_, np.sqrt(-gs_rf2_c.best_score_)))"
      ]
    },
    {
      "cell_type": "markdown",
      "metadata": {
        "id": "yXOi72EunO3x"
      },
      "source": [
        "### 5-fold cross validation in three regression models (with tuning parameters) with crime data"
      ]
    },
    {
      "cell_type": "code",
      "execution_count": null,
      "metadata": {
        "id": "c8UvykJRliJm",
        "colab": {
          "base_uri": "https://localhost:8080/"
        },
        "outputId": "536d0ba1-0153-4565-d927-f9c4dcdc8651"
      },
      "outputs": [
        {
          "output_type": "stream",
          "name": "stdout",
          "text": [
            "LinearRegression is finished\n",
            "DecisionTreeRegressor is finished\n",
            "RandomForestRegressor is finished\n",
            "The cross validation results in three models are as follows:\n",
            "      LinearRegression  DecisionTreeRegressor  RandomForestRegressor\n",
            "cv1           0.305318               0.311047               0.270066\n",
            "cv2           0.246244               0.292014               0.251066\n",
            "cv3           0.326694               0.384405               0.340112\n",
            "cv4           0.253919               0.270697               0.250023\n",
            "cv5           0.264898               0.281896               0.249312\n",
            "RMSE          0.279414               0.308012               0.272116\n"
          ]
        }
      ],
      "source": [
        "## Decide modelling methods\n",
        "models2_c = [LinearRegression(),\n",
        "       DecisionTreeRegressor(max_depth = 5, min_samples_split = 30),\n",
        "       RandomForestRegressor(n_estimators = 70, max_depth = 15, min_samples_split =10),\n",
        "       ]\n",
        "\n",
        "## Use 5-Fold cross validatin which wraped in the 'cross_val_score' function\n",
        "rmse_f2_c = dict()\n",
        "for m in models2_c:\n",
        "    m_name = str(m).split('(')[0]\n",
        "    scores = cross_val_score(m, X=xfc_nocv, y=yfc, cv = 5, scoring=\"neg_mean_squared_error\")\n",
        "    rmse_f2_c[m_name] = np.sqrt(-scores)    ## Convert from MSE to RMSE\n",
        "    print(m_name + ' is finished')\n",
        "\n",
        "## Dispaly the model results in type of DataFrame\n",
        "rmse_f2_c = pd.DataFrame(rmse_f2_c)   \n",
        "rmse_f2_c.index = ['cv' + str(x) for x in range(1, 6)]\n",
        "rmse_f2_c.loc['RMSE'] = rmse_f2_c.apply(lambda x: x.mean())\n",
        "print(\"The cross validation results in three models are as follows:\\n{}\".format(rmse_f2_c))"
      ]
    }
  ],
  "metadata": {
    "accelerator": "TPU",
    "colab": {
      "collapsed_sections": [],
      "provenance": []
    },
    "kernelspec": {
      "display_name": "Python 3",
      "name": "python3"
    },
    "language_info": {
      "name": "python"
    }
  },
  "nbformat": 4,
  "nbformat_minor": 0
}